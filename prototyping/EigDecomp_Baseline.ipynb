{
 "cells": [
  {
   "cell_type": "code",
   "execution_count": null,
   "id": "f25f8b09",
   "metadata": {},
   "outputs": [],
   "source": [
    "import torch\n",
    "import torch.nn as nn\n",
    "import torch.nn.functional as F\n",
    "import numpy as np\n",
    "import random\n",
    "from collections import deque\n",
    "import matplotlib.pyplot as plt\n",
    "\n",
    "#Needed for training and evaluation\n",
    "from losses import *\n",
    "from RandomMatrixDataSet import get_sample,RandomMatrixDataSet\n",
    "from train import train_on_batch, run_training\n",
    "from evaluation import *\n",
    "from plotting import plot_loss_logs, error_histogram, plot_mean_identity_approx\n",
    "\n",
    "#Seed and looks\n",
    "torch.random.seed = 1234\n",
    "plt.rcParams['figure.figsize'] = [14, 6]\n",
    "plt.rcParams.update({\n",
    "    \"text.usetex\": True,\n",
    "    \"font.family\": \"serif\",\n",
    "    \"font.serif\": [\"Palatino\"],\n",
    "})\n",
    "\n",
    "#Models\n",
    "from ConvNet import EigConvNet\n",
    "from MLP import EigMLP\n",
    "from nerf import EigNERF\n",
    "from siren import EigSiren"
   ]
  },
  {
   "cell_type": "code",
   "execution_count": null,
   "id": "15e18dce",
   "metadata": {},
   "outputs": [],
   "source": [
    "#Define operation\n",
    "operation = torch.linalg.eig\n",
    "\n",
    "def rayleigh_quotient(pred,x):\n",
    "    \"\"\" This is not correct yet. \"\"\" \n",
    "    norm = torch.linalg.norm(pred)**2\n",
    "    return torch.matmul(pred,torch.matmul(pred,x.transpose(2,3)).transpose(2,3))/norm"
   ]
  },
  {
   "cell_type": "markdown",
   "id": "1eee73cc",
   "metadata": {},
   "source": [
    "### Definitions and instantiation "
   ]
  },
  {
   "cell_type": "code",
   "execution_count": null,
   "id": "56a0a544",
   "metadata": {},
   "outputs": [],
   "source": [
    "d = 4 #Matrix dimension\n",
    "\n",
    "# Define model(s) hyperparameters\n",
    "output_features = d\n",
    "hidden_layers = 3\n",
    "hidden_features = 100\n",
    "kernel_size = 3\n",
    "filters = 32\n",
    "skip = [2,4,6]"
   ]
  },
  {
   "cell_type": "code",
   "execution_count": null,
   "id": "c61958fd",
   "metadata": {},
   "outputs": [],
   "source": [
    "#Initate some example models\n",
    "reluMLP = EigMLP(d,d**2,hidden_layers, hidden_features)\n",
    "CNN = EigConvNet(d,hidden_layers,filters,kernel_size)\n",
    "SIREN = EigSiren(d,hidden_features, hidden_layers)\n",
    "nerf = EigNERF(d,d**2,skip,hidden_features)"
   ]
  },
  {
   "cell_type": "code",
   "execution_count": null,
   "id": "3ddf07cb",
   "metadata": {},
   "outputs": [],
   "source": [
    "# Choose model\n",
    "model = nerf"
   ]
  },
  {
   "cell_type": "code",
   "execution_count": null,
   "id": "b1376c6b",
   "metadata": {},
   "outputs": [],
   "source": [
    "# Training parameters\n",
    "loss_fcn = eigval_error \n",
    "lr = 3e-4\n",
    "momentum = 0.9\n",
    "optimizer = torch.optim.Adam(model.parameters(), lr=lr)\n",
    "scheduler = torch.optim.lr_scheduler.ExponentialLR(optimizer, gamma=1)\n",
    "k = 2000 #Training iterations "
   ]
  },
  {
   "cell_type": "markdown",
   "id": "be1f343f",
   "metadata": {},
   "source": [
    "### Run training"
   ]
  },
  {
   "cell_type": "code",
   "execution_count": null,
   "id": "191a714b",
   "metadata": {},
   "outputs": [],
   "source": [
    "batch_size = 100\n",
    "epoch = 10\n",
    "#With this setting, dxd random symmetric matrices are generated of specified batchsizes. \n",
    "matrix_parameters = {\"N\": batch_size,\n",
    "                    \"d\": d, \n",
    "                    \"operation\": operation,\n",
    "                     \"det\": False, \n",
    "                    \"det_channel\": False,\n",
    "                     \"symmetric\": True}\n",
    "#Run training\n",
    "\n",
    "trained_model,loss_log, weighted_average_log,eval_loss_log, eval_set = run_training(k,model,loss_fcn,optimizer, matrix_parameters,scheduler,epoch)"
   ]
  },
  {
   "cell_type": "code",
   "execution_count": null,
   "id": "2dd44102",
   "metadata": {},
   "outputs": [],
   "source": [
    "#Generate test set and predictions on test set \n",
    "eval_size = 1000\n",
    "test_parameters = {\"N\": eval_size,\n",
    "                    \"d\": d, \n",
    "                    \"operation\": operation,\n",
    "                    \"det\": False,\n",
    "                    \"det_channel\":False, \n",
    "                    \"symmetric\": True}\n",
    "\n",
    "\n",
    "test_set = get_test_set(test_parameters)\n",
    "test_set.compute_labels()\n",
    "eigvals = torch.sort(torch.real(test_set.Y[0]),2)[0]\n",
    "predicted_eigvals = trained_model(test_set.X)"
   ]
  },
  {
   "cell_type": "markdown",
   "id": "4bb910e1",
   "metadata": {},
   "source": [
    "### Plot some results"
   ]
  },
  {
   "cell_type": "code",
   "execution_count": null,
   "id": "a2f4877b",
   "metadata": {},
   "outputs": [],
   "source": [
    "#Will add this to plotting function eventually\n",
    "m = {\"errors\": (predicted_eigvals- eigvals).square().squeeze().detach().numpy()[:,:],\n",
    "     \"mean_error\": eigval_error(predicted_eigvals,eigvals).mean().detach().numpy()}\n",
    "\n",
    "                         \n",
    "plt.rcParams['figure.figsize'] = [18, 12]\n",
    "fig = plt.figure()\n",
    "spec = fig.add_gridspec(2, 2)\n",
    "fig.suptitle(\"Eigenvalue approximation of $ {} \\\\times {}$ random symmetric matrices \\n Model: NERF  ({} layers, {} neurons)\".format(d,d,8,hidden_features), fontsize = 25)\n",
    "#fig.suptitle(\"Eigenvalue approximation of $ {} \\\\times {}$ random symmetric matrices \\n Model: ConvNet  ({} layers, {}  kernels  $ {} \\\\times {}$ )\".format(d,d,hidden_layers,filters, kernel_size, kernel_size), fontsize = 25)\n",
    "\n",
    "\n",
    "### Plot training \"dynamics\"\n",
    "ax = fig.add_subplot(spec[0, 0])\n",
    "plot_loss_logs(ax,loss_log,weighted_average_log,eval_loss_log,k)\n",
    "\n",
    "\n",
    "### Plot eigval samples\n",
    "ax = fig.add_subplot(spec[0, 1])\n",
    "ax.scatter(np.arange(1,d+1), eigvals[0].detach().numpy(),s =200, color='pink', marker='o', label = \"Exact\")\n",
    "ax.scatter(np.arange(1,d+1), predicted_eigvals[0].detach().numpy(), s = 200, color='blue', marker='x', label = \" Approximated \" )\n",
    "\n",
    "ax.set_title(\"Sample eigenvalue approximation\", fontsize = 18)\n",
    "ax.legend(fontsize = 16, loc = \"best\")\n",
    "ax.set_xticks(np.arange(0, d, 1) + 1)\n",
    "ax.set_xlabel(\"\\# Eigenvalue \", fontsize = 16)\n",
    "\n",
    "###\n",
    "ax = fig.add_subplot(spec[1, :])\n",
    "legend = \"$\\lambda_{min} $ \"\n",
    "ax.hist(np.log10(m[\"errors\"][:,0]), bins = 40, color = 'pink', edgecolor='black', alpha=0.65, label = legend )\n",
    "legend = \"$\\lambda_{max} $ \"\n",
    "ax.hist(np.log10(m[\"errors\"][:,3]), bins = 40, edgecolor='black', alpha=0.65, label = legend )\n",
    "ax.axvline(np.log10(m[\"mean_error\"]), color='r', linestyle='dashed', linewidth=1, label = \"Mean test error\")\n",
    "ax.set_xlabel(\"$log_{10}(error)$\", fontsize = 16)\n",
    "ax.set_ylabel(\"Frequency\", fontsize = 16)\n",
    "ax.legend(fontsize = 16, loc = \"upper center\")\n",
    "min_ylim, max_ylim  =  ax.get_ylim()\n",
    "ax.text(np.log10(m[\"mean_error\"])*0.95, max_ylim*0.8, 'Mean: {:.4f}'.format(m[\"mean_error\"]), fontsize = 14)\n",
    "ax.set_title(\"Evaluation results on test set, N = {} \".format(eval_size), fontsize = 20);\n",
    "#plt.savefig(\"eigval_10by10_Nerf.png\")"
   ]
  },
  {
   "cell_type": "code",
   "execution_count": null,
   "id": "7456fe67",
   "metadata": {},
   "outputs": [],
   "source": []
  }
 ],
 "metadata": {
  "kernelspec": {
   "display_name": "PyCharm (pythonProject1)",
   "language": "python",
   "name": "pycharm-8a7ee7e4"
  },
  "language_info": {
   "codemirror_mode": {
    "name": "ipython",
    "version": 3
   },
   "file_extension": ".py",
   "mimetype": "text/x-python",
   "name": "python",
   "nbconvert_exporter": "python",
   "pygments_lexer": "ipython3",
   "version": "3.7.7"
  }
 },
 "nbformat": 4,
 "nbformat_minor": 5
}
