{
 "cells": [
  {
   "cell_type": "code",
   "execution_count": null,
   "metadata": {
    "pycharm": {
     "name": "#%%\n"
    }
   },
   "outputs": [],
   "source": [
    "import torch\n",
    "import torch.nn as nn\n",
    "import torch.nn.functional as F\n",
    "import numpy as np\n",
    "\n",
    "from collections import deque"
   ]
  },
  {
   "cell_type": "code",
   "execution_count": null,
   "metadata": {},
   "outputs": [],
   "source": [
    "def generate_matrix(N,d = 3):\n",
    "    # Function to generate N invertable matrices of dimension d with small condition number\n",
    "    # Returns a 3D-numpy array \n",
    "    \n",
    "    #Generate eigenvalues of matrices \n",
    "    x = 2*np.ones((N,d,1), dtype = np.float64) - 0.5*np.random.randn(N,d,1) \n",
    "    #Create diagonal matrices \n",
    "    diag  = np.eye(x.shape[1])*x[:,np.newaxis] \n",
    "    #Transformation matrix for similarity transform \n",
    "    M = np.random.randn(d,d) \n",
    "    return np.matmul(np.matmul(M,diag),np.linalg.inv(M))\n",
    "\n",
    "X_data = generate_matrix(10000)\n",
    "X_test = X_data[0]\n",
    "\n",
    "print(X_test, np.linalg.inv(X_test), np.linalg.cond(X_test))"
   ]
  },
  {
   "cell_type": "code",
   "execution_count": null,
   "metadata": {
    "pycharm": {
     "is_executing": true,
     "name": "#%%\n"
    }
   },
   "outputs": [],
   "source": [
    "#Simple MLP\n",
    "class MLP(nn.Module):\n",
    "    def __init__(self):\n",
    "        super(MLP, self).__init__()\n",
    "        self.flatten = nn.Flatten(start_dim=2)\n",
    "        self.unflatten = nn.Unflatten(-1,(3,3))\n",
    "        self.relu_stack = nn.Sequential(\n",
    "                #nn.Linear(9,9),\n",
    "                nn.ReLU(),\n",
    "                nn.Sigmoid(),\n",
    "                nn.ReLU(),\n",
    "                nn.Sigmoid(),\n",
    "                nn.ReLU(),\n",
    "                nn.Sigmoid(),\n",
    "                nn.ReLU(),\n",
    "                nn.Sigmoid(),\n",
    "                nn.ReLU(),\n",
    "                nn.Sigmoid(),\n",
    "                nn.Linear(9,9)\n",
    "        )\n",
    "    def forward(self, x):\n",
    "        x = self.flatten(x)\n",
    "        x = self.relu_stack(x)\n",
    "        x = self.unflatten(x)\n",
    "        return x\n",
    "model = MLP()\n",
    "# Test model ouput has correct format. \n",
    "#print(model(torch.rand((1,1,3,3))))"
   ]
  },
  {
   "cell_type": "code",
   "execution_count": null,
   "metadata": {
    "pycharm": {
     "is_executing": true,
     "name": "#%%\n"
    }
   },
   "outputs": [],
   "source": [
    "# Training parameters\n",
    "batch_size = 100\n",
    "lr = 1e-2\n",
    "optimizer = torch.optim.SGD(model.parameters(), lr=lr)\n",
    "\n",
    "# When a new network is created we init empty training logs\n",
    "loss_log = []\n",
    "weighted_average_log = []\n",
    "weighted_average = deque([], maxlen=100)\n",
    "\n",
    "\n",
    "# And store the best results\n",
    "best_loss = np.inf\n",
    "best_model_state_dict = model.state_dict()"
   ]
  },
  {
   "cell_type": "code",
   "execution_count": null,
   "metadata": {
    "pycharm": {
     "name": "#%%\n"
    }
   },
   "outputs": [],
   "source": [
    "### Training Loop\n",
    "for i in range(10000):\n",
    "\n",
    "    # create random matrices\n",
    "    x = torch.rand((batch_size,1,3,3))\n",
    "\n",
    "    pred = model(x)\n",
    "    id = torch.eye(3,3)\n",
    "    inv_x = torch.inverse(x)\n",
    "\n",
    "    # Compute loss between network and numerical solution\n",
    "    # By how well it serves as an inverse\n",
    "    loss = (torch.matmul(pred,x) - id).square().mean()\n",
    "\n",
    "    # We store the model if it has the lowest fitness\n",
    "    # (this is to avoid losing good results during a run that goes wild)\n",
    "    if loss < best_loss:\n",
    "        best_model_state_dict = model.state_dict()\n",
    "        best_loss = loss\n",
    "        print('New Best: ', loss.item())\n",
    "\n",
    "    # Update the loss trend indicators\n",
    "    weighted_average.append(loss.item())\n",
    "\n",
    "    # Update the logs\n",
    "    weighted_average_log.append(np.mean(weighted_average))\n",
    "    loss_log.append(loss.item())\n",
    "\n",
    "    # Print every i iterations\n",
    "    if i % 100 == 0:\n",
    "        wa_out = np.mean(weighted_average)\n",
    "        print(f\"It={i}\\t loss={loss.item():.3e}\\t  weighted_average={wa_out:.3e}\\t\")\n",
    "\n",
    "    # Zeroes the gradient (necessary because of things)\n",
    "    optimizer.zero_grad()\n",
    "\n",
    "    # Backward pass: compute gradient of the loss with respect to model parameters\n",
    "    loss.backward()\n",
    "\n",
    "    # Calling the step function on an Optimizer makes an update to its\n",
    "    # parameters\n",
    "    optimizer.step()"
   ]
  },
  {
   "cell_type": "code",
   "execution_count": null,
   "metadata": {
    "pycharm": {
     "is_executing": true,
     "name": "#%%\n"
    }
   },
   "outputs": [],
   "source": [
    "# Let's look at an example\n",
    "m = torch.rand((1,1,3,3))\n",
    "print(m)"
   ]
  },
  {
   "cell_type": "code",
   "execution_count": null,
   "metadata": {
    "pycharm": {
     "name": "#%%\n"
    }
   },
   "outputs": [],
   "source": [
    "torch.inverse(m)"
   ]
  },
  {
   "cell_type": "code",
   "execution_count": null,
   "metadata": {
    "pycharm": {
     "is_executing": true,
     "name": "#%%\n"
    }
   },
   "outputs": [],
   "source": [
    "pred = model(m)\n",
    "print(pred)\n",
    "print(torch.matmul(pred,m)) #Should the identity matrix.\n"
   ]
  },
  {
   "cell_type": "code",
   "execution_count": null,
   "metadata": {},
   "outputs": [],
   "source": []
  },
  {
   "cell_type": "code",
   "execution_count": null,
   "metadata": {},
   "outputs": [],
   "source": []
  }
 ],
 "metadata": {
  "kernelspec": {
   "display_name": "PyCharm (pythonProject1)",
   "language": "python",
   "name": "pycharm-8a7ee7e4"
  },
  "language_info": {
   "codemirror_mode": {
    "name": "ipython",
    "version": 3
   },
   "file_extension": ".py",
   "mimetype": "text/x-python",
   "name": "python",
   "nbconvert_exporter": "python",
   "pygments_lexer": "ipython3",
   "version": "3.7.7"
  }
 },
 "nbformat": 4,
 "nbformat_minor": 1
}
