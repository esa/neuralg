{
 "cells": [
  {
   "cell_type": "code",
   "execution_count": null,
   "metadata": {},
   "outputs": [],
   "source": [
    "import neuralg \n",
    "import numpy as np\n",
    "import torch\n",
    "import networkx\n",
    "from dotmap import DotMap"
   ]
  },
  {
   "cell_type": "code",
   "execution_count": null,
   "metadata": {},
   "outputs": [],
   "source": [
    "neuralg.set_precision(\"float64\")"
   ]
  },
  {
   "cell_type": "markdown",
   "metadata": {},
   "source": [
    "### Spectral graph theory application\n",
    "\n",
    "Generate $N$ random undirected graphs each with $n$ number of nodes, drawing a possble edge with probability $p$,\n",
    "and compute the eigenvalues of the corresponding Adjacency and Laplacian matrices. \n",
    "\n"
   ]
  },
  {
   "cell_type": "code",
   "execution_count": null,
   "metadata": {},
   "outputs": [],
   "source": [
    "N = 1000\n",
    "number_of_nodes = np.arange(5,11)\n",
    "undirected_graphs = DotMap()\n",
    "for n in number_of_nodes:\n",
    "    for i in range(N):\n",
    "        g = networkx.erdos_renyi_graph(n=n, p= 0.5)\n",
    "        adjacency_matrix = torch.tensor(networkx.to_numpy_array(g))[None,:]\n",
    "        laplacian_matrix = torch.tensor(networkx.laplacian_matrix(g).toarray(), dtype = torch.float64 )[None,:]\n",
    "        if i == 0: \n",
    "            A = adjacency_matrix\n",
    "            L = laplacian_matrix\n",
    "            \n",
    "        else:   \n",
    "            A = torch.cat((A,adjacency_matrix),0)\n",
    "            L = torch.cat((L,laplacian_matrix),0)\n",
    "    undirected_graphs[str(n)].adjacency = A\n",
    "    undirected_graphs[str(n)].adjacency.eigvals = neuralg.eig(A)\n",
    "    undirected_graphs[str(n)].laplacian = L\n",
    "    undirected_graphs[str(n)].laplacian.eigvals = neuralg.eig(L)\n",
    " "
   ]
  },
  {
   "cell_type": "code",
   "execution_count": null,
   "metadata": {},
   "outputs": [],
   "source": [
    "assert undirected_graphs[\"5\"].laplacian.eigvals is not None\n",
    "undirected_graphs[\"10\"].adjacency.eigvals is not None "
   ]
  },
  {
   "cell_type": "markdown",
   "metadata": {},
   "source": [
    "#### Now we can do some inference on these graphs based on the eigenvalue distributions\n",
    "-  The spectral gap of the Laplacian of a graph is defined as the absolute difference between the two largest eigenvalues \n",
    "-  The number of cycles of length $k$ in a graph can be related to the sum of powered eigenvalues. \n"
   ]
  },
  {
   "cell_type": "markdown",
   "metadata": {},
   "source": []
  }
 ],
 "metadata": {
  "interpreter": {
   "hash": "939eb026ed6100385ed54bc0e5d104be5eda2ea460a65f3624aaec41a577b131"
  },
  "kernelspec": {
   "display_name": "Python 3.7.7 ('Project1')",
   "language": "python",
   "name": "python3"
  },
  "language_info": {
   "codemirror_mode": {
    "name": "ipython",
    "version": 3
   },
   "file_extension": ".py",
   "mimetype": "text/x-python",
   "name": "python",
   "nbconvert_exporter": "python",
   "pygments_lexer": "ipython3",
   "version": "3.8.12"
  },
  "orig_nbformat": 4
 },
 "nbformat": 4,
 "nbformat_minor": 2
}
