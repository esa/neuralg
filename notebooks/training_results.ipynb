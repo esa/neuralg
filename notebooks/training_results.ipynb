{
 "cells": [
  {
   "cell_type": "markdown",
   "metadata": {},
   "source": [
    "### Notebook to train models and visualize results from training\n",
    "- Load default and customize global training configuration for training run\n",
    "- Call train_models to train given the passed configurations, with optional saving \n",
    "- Plot some results from training and evaluation\n"
   ]
  },
  {
   "cell_type": "code",
   "execution_count": null,
   "metadata": {},
   "outputs": [],
   "source": [
    "import matplotlib as plt \n",
    "# Append main folder\n",
    "import sys\n",
    "sys.path.append(\"../\")\n",
    "from neuralg.training.load_default_training_cfg import load_default_training_cfg\n",
    "from neuralg.training.save_run import save_run\n",
    "from neuralg.utils.print_cfg import print_cfg\n",
    "from neuralg.training.train_models import train_models\n",
    "from neuralg.plots.plot_eigval_results import plot_eigval_results\n",
    "from neuralg.plots.plot_loss_logs import plot_loss_logs\n",
    "from neuralg.evaluation.evaluate import evaluate\n",
    "from neuralg.utils.set_up_torch import set_up_torch"
   ]
  },
  {
   "cell_type": "code",
   "execution_count": null,
   "metadata": {},
   "outputs": [],
   "source": [
    "set_up_torch(\"float64\", torch_enable_cuda= True)"
   ]
  },
  {
   "cell_type": "markdown",
   "metadata": {},
   "source": [
    "##### Load default configurations"
   ]
  },
  {
   "cell_type": "code",
   "execution_count": null,
   "metadata": {},
   "outputs": [],
   "source": [
    "cfg = load_default_training_cfg()\n",
    "#del cfg.batch_parameters[\"dist\"]"
   ]
  },
  {
   "cell_type": "markdown",
   "metadata": {},
   "source": [
    "#### Print default configurations"
   ]
  },
  {
   "cell_type": "code",
   "execution_count": null,
   "metadata": {},
   "outputs": [],
   "source": [
    "print_cfg(cfg)"
   ]
  },
  {
   "cell_type": "markdown",
   "metadata": {},
   "source": [
    "#### Set matrix parameters, here are some example choices"
   ]
  },
  {
   "cell_type": "code",
   "execution_count": null,
   "metadata": {},
   "outputs": [],
   "source": [
    "# E.g. If we want to train models for sizes 4x4 & 5x5. \n",
    "## This will govern number of models trained in a run\n",
    "cfg.matrix_sizes = [3,4]\n",
    "#Set batch size \n",
    "cfg.batch_parameters.N = 64 \n",
    "# We can also characterize the batch eigenvalue distribution \n",
    "cfg.batch_parameters.dist = \"gaussian\" \n"
   ]
  },
  {
   "cell_type": "markdown",
   "metadata": {},
   "source": [
    "#### Set training run parameters"
   ]
  },
  {
   "cell_type": "code",
   "execution_count": null,
   "metadata": {},
   "outputs": [],
   "source": [
    "cfg.run_params.iterations = 1000\n",
    "cfg.run_params.epochs = 10"
   ]
  },
  {
   "cell_type": "markdown",
   "metadata": {},
   "source": [
    "#### Run training with the set configurations"
   ]
  },
  {
   "cell_type": "code",
   "execution_count": null,
   "metadata": {},
   "outputs": [],
   "source": [
    "run_cfg = train_models(cfg,save_training_run= False)\n"
   ]
  },
  {
   "cell_type": "markdown",
   "metadata": {},
   "source": [
    "### Plot training dynamics"
   ]
  },
  {
   "cell_type": "code",
   "execution_count": null,
   "metadata": {},
   "outputs": [],
   "source": [
    "plot_loss_logs(run_cfg)"
   ]
  },
  {
   "cell_type": "markdown",
   "metadata": {},
   "source": [
    "#### Evaluate model\n",
    "** Insert evaluation description ** "
   ]
  },
  {
   "cell_type": "code",
   "execution_count": null,
   "metadata": {},
   "outputs": [],
   "source": [
    "evaluated_run_cfg = evaluate(run_cfg)"
   ]
  },
  {
   "cell_type": "markdown",
   "metadata": {},
   "source": [
    "#### Plot evaluation results \n"
   ]
  },
  {
   "cell_type": "code",
   "execution_count": null,
   "metadata": {},
   "outputs": [],
   "source": [
    "\n",
    "plot_eigval_results(evaluated_run_cfg)"
   ]
  },
  {
   "cell_type": "markdown",
   "metadata": {},
   "source": [
    "#### Optionally save run, if not called in training run"
   ]
  },
  {
   "cell_type": "code",
   "execution_count": null,
   "metadata": {},
   "outputs": [],
   "source": [
    "save_run(run_cfg)"
   ]
  },
  {
   "cell_type": "code",
   "execution_count": null,
   "metadata": {},
   "outputs": [],
   "source": []
  }
 ],
 "metadata": {
  "interpreter": {
   "hash": "4375ee4ebde01def14bb595c7a3c603f6ae87c7ce25d1cfd1652406174cf8b32"
  },
  "kernelspec": {
   "display_name": "Python 3.9.10 ('neuralg')",
   "language": "python",
   "name": "python3"
  },
  "language_info": {
   "codemirror_mode": {
    "name": "ipython",
    "version": 3
   },
   "file_extension": ".py",
   "mimetype": "text/x-python",
   "name": "python",
   "nbconvert_exporter": "python",
   "pygments_lexer": "ipython3",
   "version": "3.8.12"
  },
  "orig_nbformat": 4
 },
 "nbformat": 4,
 "nbformat_minor": 2
}
