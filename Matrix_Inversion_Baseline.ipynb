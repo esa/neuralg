{
 "cells": [
  {
   "cell_type": "code",
   "execution_count": null,
   "id": "0c81f7b2",
   "metadata": {},
   "outputs": [],
   "source": [
    "import torch\n",
    "import torch.nn as nn\n",
    "import torch.nn.functional as F\n",
    "\n",
    "import numpy as np\n",
    "\n",
    "from collections import deque"
   ]
  },
  {
   "cell_type": "code",
   "execution_count": null,
   "id": "b4bb67f6",
   "metadata": {},
   "outputs": [],
   "source": [
    "class Net(nn.Module):\n",
    "\n",
    "    def __init__(self):\n",
    "        super(Net, self).__init__()\n",
    "        self.conv1 = nn.Conv2d(1, 64, 3,padding=\"same\")\n",
    "        self.conv2 = nn.Conv2d(64, 64, 3,padding=\"same\")\n",
    "        self.conv3 = nn.Conv2d(64, 64, 3,padding=\"same\")\n",
    "        self.conv4 = nn.Conv2d(64, 64, 3,padding=\"same\")\n",
    "        self.conv5 = nn.Conv2d(64, 64, 3,padding=\"same\")\n",
    "        self.conv6 = nn.Conv2d(64, 1, 3,padding=\"same\")\n",
    "\n",
    "    def forward(self, x):\n",
    "        x = F.relu(self.conv1(x))\n",
    "        x = F.relu(self.conv2(x))\n",
    "        x = F.relu(self.conv3(x))\n",
    "        x = F.relu(self.conv4(x))\n",
    "        x = F.relu(self.conv5(x))\n",
    "        x = F.relu(self.conv6(x))\n",
    "        return x\n",
    "\n",
    "model = Net()\n",
    "print(model)"
   ]
  },
  {
   "cell_type": "code",
   "execution_count": null,
   "id": "72035fb2",
   "metadata": {},
   "outputs": [],
   "source": [
    "# Training parameters\n",
    "batch_size = 100\n",
    "lr = 1e-2\n",
    "optimizer = torch.optim.SGD(model.parameters(), lr=lr)\n",
    "\n",
    "# When a new network is created we init empty training logs\n",
    "loss_log = []\n",
    "weighted_average_log = []\n",
    "weighted_average = deque([], maxlen=100)\n",
    "\n",
    "\n",
    "# And store the best results\n",
    "best_loss = np.inf\n",
    "best_model_state_dict = model.state_dict()"
   ]
  },
  {
   "cell_type": "code",
   "execution_count": null,
   "id": "27e43ece",
   "metadata": {
    "scrolled": false
   },
   "outputs": [],
   "source": [
    "### Training Loop\n",
    "for i in range(10000):\n",
    "    \n",
    "    # create random matrices\n",
    "    x = torch.rand((batch_size,1,3,3))\n",
    "        \n",
    "    pred = model(x)\n",
    "    \n",
    "    inv_x = torch.inverse(x)\n",
    "    \n",
    "    # Compute loss between network and numerical solution\n",
    "    loss = (pred - inv_x).abs().mean() / inv_x.max()\n",
    "    \n",
    "    # We store the model if it has the lowest fitness \n",
    "    # (this is to avoid losing good results during a run that goes wild)\n",
    "    if loss < best_loss:\n",
    "        best_model_state_dict = model.state_dict()\n",
    "        best_loss = loss\n",
    "        print('New Best: ', loss.item())\n",
    "\n",
    "    # Update the loss trend indicators\n",
    "    weighted_average.append(loss.item())\n",
    "    \n",
    "    # Update the logs\n",
    "    weighted_average_log.append(np.mean(weighted_average))\n",
    "    loss_log.append(loss.item())\n",
    "    \n",
    "    # Print every i iterations\n",
    "    if i % 100 == 0:\n",
    "        wa_out = np.mean(weighted_average)\n",
    "        print(f\"It={i}\\t loss={loss.item():.3e}\\t  weighted_average={wa_out:.3e}\\t\")\n",
    "        \n",
    "    # Zeroes the gradient (necessary because of things)\n",
    "    optimizer.zero_grad()\n",
    "\n",
    "    # Backward pass: compute gradient of the loss with respect to model parameters\n",
    "    loss.backward()    \n",
    "  \n",
    "    # Calling the step function on an Optimizer makes an update to its\n",
    "    # parameters\n",
    "    optimizer.step()"
   ]
  },
  {
   "cell_type": "code",
   "execution_count": null,
   "id": "c502e22b",
   "metadata": {},
   "outputs": [],
   "source": [
    "# Let's look at an example\n",
    "m = torch.rand((1,1,3,3))\n",
    "print(m)"
   ]
  },
  {
   "cell_type": "code",
   "execution_count": null,
   "id": "85ad1ac4",
   "metadata": {},
   "outputs": [],
   "source": [
    "torch.inverse(m)"
   ]
  },
  {
   "cell_type": "code",
   "execution_count": null,
   "id": "5974baca",
   "metadata": {},
   "outputs": [],
   "source": [
    "model(m)"
   ]
  }
 ],
 "metadata": {
  "kernelspec": {
   "display_name": "Python 3 (ipykernel)",
   "language": "python",
   "name": "python3"
  },
  "language_info": {
   "codemirror_mode": {
    "name": "ipython",
    "version": 3
   },
   "file_extension": ".py",
   "mimetype": "text/x-python",
   "name": "python",
   "nbconvert_exporter": "python",
   "pygments_lexer": "ipython3",
   "version": "3.9.6"
  }
 },
 "nbformat": 4,
 "nbformat_minor": 5
}
